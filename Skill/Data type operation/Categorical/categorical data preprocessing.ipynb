{
 "cells": [
  {
   "cell_type": "code",
   "execution_count": 2,
   "metadata": {},
   "outputs": [],
   "source": [
    "import pandas as pd\n",
    "import numpy as np\n",
    "from sklearn.preprocessing import LabelEncoder\n",
    "from IPython.display import display\n",
    "\n",
    "\n",
    "data=pd.read_csv('Categorical data bike.csv')"
   ]
  },
  {
   "cell_type": "code",
   "execution_count": 3,
   "metadata": {},
   "outputs": [
    {
     "name": "stdout",
     "output_type": "stream",
     "text": [
      "Size: 13000\n",
      "Shape: (1000, 13)\n"
     ]
    },
    {
     "data": {
      "text/plain": [
       "'Attributes: '"
      ]
     },
     "metadata": {},
     "output_type": "display_data"
    },
    {
     "name": "stdout",
     "output_type": "stream",
     "text": [
      "<class 'pandas.core.frame.DataFrame'>\n",
      "RangeIndex: 1000 entries, 0 to 999\n",
      "Data columns (total 13 columns):\n",
      " #   Column            Non-Null Count  Dtype  \n",
      "---  ------            --------------  -----  \n",
      " 0   ID                1000 non-null   int64  \n",
      " 1   Marital Status    993 non-null    object \n",
      " 2   Gender            989 non-null    object \n",
      " 3   Income            994 non-null    float64\n",
      " 4   Children          992 non-null    float64\n",
      " 5   Education         1000 non-null   object \n",
      " 6   Occupation        1000 non-null   object \n",
      " 7   Home Owner        996 non-null    object \n",
      " 8   Cars              991 non-null    float64\n",
      " 9   Commute Distance  1000 non-null   object \n",
      " 10  Region            1000 non-null   object \n",
      " 11  Age               992 non-null    float64\n",
      " 12  Purchased Bike    1000 non-null   object \n",
      "dtypes: float64(4), int64(1), object(8)\n",
      "memory usage: 101.7+ KB\n"
     ]
    },
    {
     "data": {
      "text/plain": [
       "None"
      ]
     },
     "metadata": {},
     "output_type": "display_data"
    }
   ],
   "source": [
    "print(\"Size:\",data.size)\n",
    "print(\"Shape:\", data.shape)\n",
    "display(\"Attributes: \")\n",
    "display(data.info())"
   ]
  },
  {
   "cell_type": "code",
   "execution_count": 4,
   "metadata": {},
   "outputs": [],
   "source": [
    "for col in data.select_dtypes(include=['object']):\n",
    "        data[col] = data[col].str.lower().str.strip()"
   ]
  },
  {
   "cell_type": "code",
   "execution_count": 5,
   "metadata": {},
   "outputs": [
    {
     "name": "stdout",
     "output_type": "stream",
     "text": [
      "NAN\n",
      "Marital Status     7\n",
      "Gender            11\n",
      "Income             6\n",
      "Children           8\n",
      "Home Owner         4\n",
      "Cars               9\n",
      "Age                8\n",
      "dtype: int64\n",
      "\n",
      "NULL\n",
      "Marital Status     7\n",
      "Gender            11\n",
      "Income             6\n",
      "Children           8\n",
      "Home Owner         4\n",
      "Cars               9\n",
      "Age                8\n",
      "dtype: int64\n"
     ]
    }
   ],
   "source": [
    "print(\"NAN\")\n",
    "nan_counts = data.isna().sum()\n",
    "print(nan_counts[nan_counts > 0])\n",
    "\n",
    "print(\"\\nNULL\")\n",
    "null_counts = data.isnull().sum()\n",
    "print(null_counts[null_counts > 0])"
   ]
  },
  {
   "cell_type": "code",
   "execution_count": 6,
   "metadata": {},
   "outputs": [],
   "source": [
    "data=data.fillna(data.mode().iloc[0])"
   ]
  },
  {
   "cell_type": "code",
   "execution_count": 17,
   "metadata": {},
   "outputs": [
    {
     "name": "stdout",
     "output_type": "stream",
     "text": [
      "NAN\n",
      "Series([], dtype: int64)\n",
      "\n",
      "NULL\n",
      "Series([], dtype: int64)\n"
     ]
    }
   ],
   "source": [
    "print(\"NAN\")\n",
    "nan_counts = data.isna().sum()\n",
    "print(nan_counts[nan_counts > 0])\n",
    "\n",
    "print(\"\\nNULL\")\n",
    "null_counts = data.isnull().sum()\n",
    "print(null_counts[null_counts > 0])"
   ]
  },
  {
   "cell_type": "code",
   "execution_count": 8,
   "metadata": {},
   "outputs": [
    {
     "name": "stdout",
     "output_type": "stream",
     "text": [
      "Marital Status \n",
      " ['married' 'single']\n",
      "Gender \n",
      " ['female' 'male']\n",
      "Education \n",
      " ['bachelors' 'partial college' 'high school' 'partial high school'\n",
      " 'graduate degree']\n",
      "Occupation \n",
      " ['skilled manual' 'clerical' 'professional' 'manual' 'management']\n",
      "Home Owner \n",
      " ['yes' 'no']\n",
      "Commute Distance \n",
      " ['0-1 miles' '2-5 miles' '5-10 miles' '1-2 miles' '10+ miles']\n",
      "Region \n",
      " ['europe' 'pacific' 'north america']\n",
      "Purchased Bike \n",
      " ['no' 'yes']\n"
     ]
    }
   ],
   "source": [
    "for col in data.select_dtypes('object').columns:\n",
    "    print(col,\"\\n\",data[col].unique())"
   ]
  },
  {
   "cell_type": "code",
   "execution_count": 9,
   "metadata": {},
   "outputs": [],
   "source": [
    "eduction_mapping={\n",
    "    'bachelors':'bachelors',\n",
    "    'partial college':'bachelors',\n",
    "    'high school':'high_school',\n",
    "    'partial high school':'high_school',\n",
    "    'graduate degree':'graduated'\n",
    "}\n",
    "\n",
    "ocupation_mapping={\n",
    "    'skilled manual':'manual',\n",
    "    'clerical':'clerical',\n",
    "    'professional':'professional',\n",
    "    'manual':'manual',\n",
    "    'management':'management'\n",
    "}\n",
    "\n",
    "CommuteWorkingMapping={\n",
    "    '0-1 miles':0.5,\n",
    "    '2-5 miles':3.5,\n",
    "    '5-10 miles':7.5,\n",
    "    '1-2 miles':1.5,\n",
    "    '10+ miles':10\n",
    "}\n",
    "\n"
   ]
  },
  {
   "cell_type": "code",
   "execution_count": 10,
   "metadata": {},
   "outputs": [],
   "source": [
    "data['Education']=data['Education'].map(eduction_mapping)\n",
    "data['Occupation']=data['Occupation'].map(ocupation_mapping)\n",
    "data['Commute Distance']=data['Commute Distance'].map(CommuteWorkingMapping)"
   ]
  },
  {
   "cell_type": "code",
   "execution_count": 11,
   "metadata": {},
   "outputs": [
    {
     "data": {
      "application/vnd.microsoft.datawrangler.viewer.v0+json": {
       "columns": [
        {
         "name": "index",
         "rawType": "int64",
         "type": "integer"
        },
        {
         "name": "ID",
         "rawType": "int64",
         "type": "integer"
        },
        {
         "name": "Marital Status",
         "rawType": "object",
         "type": "string"
        },
        {
         "name": "Gender",
         "rawType": "object",
         "type": "string"
        },
        {
         "name": "Income",
         "rawType": "float64",
         "type": "float"
        },
        {
         "name": "Children",
         "rawType": "float64",
         "type": "float"
        },
        {
         "name": "Education",
         "rawType": "object",
         "type": "string"
        },
        {
         "name": "Occupation",
         "rawType": "object",
         "type": "string"
        },
        {
         "name": "Home Owner",
         "rawType": "object",
         "type": "string"
        },
        {
         "name": "Cars",
         "rawType": "float64",
         "type": "float"
        },
        {
         "name": "Commute Distance",
         "rawType": "float64",
         "type": "float"
        },
        {
         "name": "Region",
         "rawType": "object",
         "type": "string"
        },
        {
         "name": "Age",
         "rawType": "float64",
         "type": "float"
        },
        {
         "name": "Purchased Bike",
         "rawType": "object",
         "type": "string"
        }
       ],
       "conversionMethod": "pd.DataFrame",
       "ref": "2c49d1dc-3662-4e9b-a17a-8e55c35d4745",
       "rows": [
        [
         "0",
         "12496",
         "married",
         "female",
         "40000.0",
         "1.0",
         "bachelors",
         "manual",
         "yes",
         "0.0",
         "0.5",
         "europe",
         "42.0",
         "no"
        ],
        [
         "1",
         "24107",
         "married",
         "male",
         "30000.0",
         "3.0",
         "bachelors",
         "clerical",
         "yes",
         "1.0",
         "0.5",
         "europe",
         "43.0",
         "no"
        ],
        [
         "2",
         "14177",
         "married",
         "male",
         "80000.0",
         "5.0",
         "bachelors",
         "professional",
         "no",
         "2.0",
         "3.5",
         "europe",
         "60.0",
         "no"
        ],
        [
         "3",
         "24381",
         "single",
         "male",
         "70000.0",
         "0.0",
         "bachelors",
         "professional",
         "yes",
         "1.0",
         "7.5",
         "pacific",
         "41.0",
         "yes"
        ],
        [
         "4",
         "25597",
         "single",
         "male",
         "30000.0",
         "0.0",
         "bachelors",
         "clerical",
         "no",
         "0.0",
         "0.5",
         "europe",
         "36.0",
         "yes"
        ]
       ],
       "shape": {
        "columns": 13,
        "rows": 5
       }
      },
      "text/html": [
       "<div>\n",
       "<style scoped>\n",
       "    .dataframe tbody tr th:only-of-type {\n",
       "        vertical-align: middle;\n",
       "    }\n",
       "\n",
       "    .dataframe tbody tr th {\n",
       "        vertical-align: top;\n",
       "    }\n",
       "\n",
       "    .dataframe thead th {\n",
       "        text-align: right;\n",
       "    }\n",
       "</style>\n",
       "<table border=\"1\" class=\"dataframe\">\n",
       "  <thead>\n",
       "    <tr style=\"text-align: right;\">\n",
       "      <th></th>\n",
       "      <th>ID</th>\n",
       "      <th>Marital Status</th>\n",
       "      <th>Gender</th>\n",
       "      <th>Income</th>\n",
       "      <th>Children</th>\n",
       "      <th>Education</th>\n",
       "      <th>Occupation</th>\n",
       "      <th>Home Owner</th>\n",
       "      <th>Cars</th>\n",
       "      <th>Commute Distance</th>\n",
       "      <th>Region</th>\n",
       "      <th>Age</th>\n",
       "      <th>Purchased Bike</th>\n",
       "    </tr>\n",
       "  </thead>\n",
       "  <tbody>\n",
       "    <tr>\n",
       "      <th>0</th>\n",
       "      <td>12496</td>\n",
       "      <td>married</td>\n",
       "      <td>female</td>\n",
       "      <td>40000.0</td>\n",
       "      <td>1.0</td>\n",
       "      <td>bachelors</td>\n",
       "      <td>manual</td>\n",
       "      <td>yes</td>\n",
       "      <td>0.0</td>\n",
       "      <td>0.5</td>\n",
       "      <td>europe</td>\n",
       "      <td>42.0</td>\n",
       "      <td>no</td>\n",
       "    </tr>\n",
       "    <tr>\n",
       "      <th>1</th>\n",
       "      <td>24107</td>\n",
       "      <td>married</td>\n",
       "      <td>male</td>\n",
       "      <td>30000.0</td>\n",
       "      <td>3.0</td>\n",
       "      <td>bachelors</td>\n",
       "      <td>clerical</td>\n",
       "      <td>yes</td>\n",
       "      <td>1.0</td>\n",
       "      <td>0.5</td>\n",
       "      <td>europe</td>\n",
       "      <td>43.0</td>\n",
       "      <td>no</td>\n",
       "    </tr>\n",
       "    <tr>\n",
       "      <th>2</th>\n",
       "      <td>14177</td>\n",
       "      <td>married</td>\n",
       "      <td>male</td>\n",
       "      <td>80000.0</td>\n",
       "      <td>5.0</td>\n",
       "      <td>bachelors</td>\n",
       "      <td>professional</td>\n",
       "      <td>no</td>\n",
       "      <td>2.0</td>\n",
       "      <td>3.5</td>\n",
       "      <td>europe</td>\n",
       "      <td>60.0</td>\n",
       "      <td>no</td>\n",
       "    </tr>\n",
       "    <tr>\n",
       "      <th>3</th>\n",
       "      <td>24381</td>\n",
       "      <td>single</td>\n",
       "      <td>male</td>\n",
       "      <td>70000.0</td>\n",
       "      <td>0.0</td>\n",
       "      <td>bachelors</td>\n",
       "      <td>professional</td>\n",
       "      <td>yes</td>\n",
       "      <td>1.0</td>\n",
       "      <td>7.5</td>\n",
       "      <td>pacific</td>\n",
       "      <td>41.0</td>\n",
       "      <td>yes</td>\n",
       "    </tr>\n",
       "    <tr>\n",
       "      <th>4</th>\n",
       "      <td>25597</td>\n",
       "      <td>single</td>\n",
       "      <td>male</td>\n",
       "      <td>30000.0</td>\n",
       "      <td>0.0</td>\n",
       "      <td>bachelors</td>\n",
       "      <td>clerical</td>\n",
       "      <td>no</td>\n",
       "      <td>0.0</td>\n",
       "      <td>0.5</td>\n",
       "      <td>europe</td>\n",
       "      <td>36.0</td>\n",
       "      <td>yes</td>\n",
       "    </tr>\n",
       "  </tbody>\n",
       "</table>\n",
       "</div>"
      ],
      "text/plain": [
       "      ID Marital Status  Gender   Income  Children  Education    Occupation  \\\n",
       "0  12496        married  female  40000.0       1.0  bachelors        manual   \n",
       "1  24107        married    male  30000.0       3.0  bachelors      clerical   \n",
       "2  14177        married    male  80000.0       5.0  bachelors  professional   \n",
       "3  24381         single    male  70000.0       0.0  bachelors  professional   \n",
       "4  25597         single    male  30000.0       0.0  bachelors      clerical   \n",
       "\n",
       "  Home Owner  Cars  Commute Distance   Region   Age Purchased Bike  \n",
       "0        yes   0.0               0.5   europe  42.0             no  \n",
       "1        yes   1.0               0.5   europe  43.0             no  \n",
       "2         no   2.0               3.5   europe  60.0             no  \n",
       "3        yes   1.0               7.5  pacific  41.0            yes  \n",
       "4         no   0.0               0.5   europe  36.0            yes  "
      ]
     },
     "execution_count": 11,
     "metadata": {},
     "output_type": "execute_result"
    }
   ],
   "source": [
    "data.head()"
   ]
  },
  {
   "cell_type": "code",
   "execution_count": 12,
   "metadata": {},
   "outputs": [],
   "source": [
    "valid_occupations=['skilled manual','professional','manual']\n",
    "data.loc[~data['Occupation'].isin(valid_occupations),'Occupation']='manual'"
   ]
  },
  {
   "cell_type": "code",
   "execution_count": 13,
   "metadata": {},
   "outputs": [
    {
     "data": {
      "application/vnd.microsoft.datawrangler.viewer.v0+json": {
       "columns": [
        {
         "name": "index",
         "rawType": "int64",
         "type": "integer"
        },
        {
         "name": "ID",
         "rawType": "int64",
         "type": "integer"
        },
        {
         "name": "Marital Status",
         "rawType": "object",
         "type": "string"
        },
        {
         "name": "Gender",
         "rawType": "object",
         "type": "string"
        },
        {
         "name": "Income",
         "rawType": "float64",
         "type": "float"
        },
        {
         "name": "Children",
         "rawType": "float64",
         "type": "float"
        },
        {
         "name": "Education",
         "rawType": "object",
         "type": "string"
        },
        {
         "name": "Occupation",
         "rawType": "object",
         "type": "string"
        },
        {
         "name": "Home Owner",
         "rawType": "object",
         "type": "string"
        },
        {
         "name": "Cars",
         "rawType": "float64",
         "type": "float"
        },
        {
         "name": "Commute Distance",
         "rawType": "float64",
         "type": "float"
        },
        {
         "name": "Region",
         "rawType": "object",
         "type": "string"
        },
        {
         "name": "Age",
         "rawType": "float64",
         "type": "float"
        },
        {
         "name": "Purchased Bike",
         "rawType": "object",
         "type": "string"
        }
       ],
       "conversionMethod": "pd.DataFrame",
       "ref": "15143fad-97fd-4191-89ab-5fb1b5b86a98",
       "rows": [
        [
         "0",
         "12496",
         "married",
         "female",
         "40000.0",
         "1.0",
         "bachelors",
         "manual",
         "yes",
         "0.0",
         "0.5",
         "europe",
         "42.0",
         "no"
        ],
        [
         "1",
         "24107",
         "married",
         "male",
         "30000.0",
         "3.0",
         "bachelors",
         "manual",
         "yes",
         "1.0",
         "0.5",
         "europe",
         "43.0",
         "no"
        ],
        [
         "2",
         "14177",
         "married",
         "male",
         "80000.0",
         "5.0",
         "bachelors",
         "professional",
         "no",
         "2.0",
         "3.5",
         "europe",
         "60.0",
         "no"
        ],
        [
         "3",
         "24381",
         "single",
         "male",
         "70000.0",
         "0.0",
         "bachelors",
         "professional",
         "yes",
         "1.0",
         "7.5",
         "pacific",
         "41.0",
         "yes"
        ],
        [
         "4",
         "25597",
         "single",
         "male",
         "30000.0",
         "0.0",
         "bachelors",
         "manual",
         "no",
         "0.0",
         "0.5",
         "europe",
         "36.0",
         "yes"
        ]
       ],
       "shape": {
        "columns": 13,
        "rows": 5
       }
      },
      "text/html": [
       "<div>\n",
       "<style scoped>\n",
       "    .dataframe tbody tr th:only-of-type {\n",
       "        vertical-align: middle;\n",
       "    }\n",
       "\n",
       "    .dataframe tbody tr th {\n",
       "        vertical-align: top;\n",
       "    }\n",
       "\n",
       "    .dataframe thead th {\n",
       "        text-align: right;\n",
       "    }\n",
       "</style>\n",
       "<table border=\"1\" class=\"dataframe\">\n",
       "  <thead>\n",
       "    <tr style=\"text-align: right;\">\n",
       "      <th></th>\n",
       "      <th>ID</th>\n",
       "      <th>Marital Status</th>\n",
       "      <th>Gender</th>\n",
       "      <th>Income</th>\n",
       "      <th>Children</th>\n",
       "      <th>Education</th>\n",
       "      <th>Occupation</th>\n",
       "      <th>Home Owner</th>\n",
       "      <th>Cars</th>\n",
       "      <th>Commute Distance</th>\n",
       "      <th>Region</th>\n",
       "      <th>Age</th>\n",
       "      <th>Purchased Bike</th>\n",
       "    </tr>\n",
       "  </thead>\n",
       "  <tbody>\n",
       "    <tr>\n",
       "      <th>0</th>\n",
       "      <td>12496</td>\n",
       "      <td>married</td>\n",
       "      <td>female</td>\n",
       "      <td>40000.0</td>\n",
       "      <td>1.0</td>\n",
       "      <td>bachelors</td>\n",
       "      <td>manual</td>\n",
       "      <td>yes</td>\n",
       "      <td>0.0</td>\n",
       "      <td>0.5</td>\n",
       "      <td>europe</td>\n",
       "      <td>42.0</td>\n",
       "      <td>no</td>\n",
       "    </tr>\n",
       "    <tr>\n",
       "      <th>1</th>\n",
       "      <td>24107</td>\n",
       "      <td>married</td>\n",
       "      <td>male</td>\n",
       "      <td>30000.0</td>\n",
       "      <td>3.0</td>\n",
       "      <td>bachelors</td>\n",
       "      <td>manual</td>\n",
       "      <td>yes</td>\n",
       "      <td>1.0</td>\n",
       "      <td>0.5</td>\n",
       "      <td>europe</td>\n",
       "      <td>43.0</td>\n",
       "      <td>no</td>\n",
       "    </tr>\n",
       "    <tr>\n",
       "      <th>2</th>\n",
       "      <td>14177</td>\n",
       "      <td>married</td>\n",
       "      <td>male</td>\n",
       "      <td>80000.0</td>\n",
       "      <td>5.0</td>\n",
       "      <td>bachelors</td>\n",
       "      <td>professional</td>\n",
       "      <td>no</td>\n",
       "      <td>2.0</td>\n",
       "      <td>3.5</td>\n",
       "      <td>europe</td>\n",
       "      <td>60.0</td>\n",
       "      <td>no</td>\n",
       "    </tr>\n",
       "    <tr>\n",
       "      <th>3</th>\n",
       "      <td>24381</td>\n",
       "      <td>single</td>\n",
       "      <td>male</td>\n",
       "      <td>70000.0</td>\n",
       "      <td>0.0</td>\n",
       "      <td>bachelors</td>\n",
       "      <td>professional</td>\n",
       "      <td>yes</td>\n",
       "      <td>1.0</td>\n",
       "      <td>7.5</td>\n",
       "      <td>pacific</td>\n",
       "      <td>41.0</td>\n",
       "      <td>yes</td>\n",
       "    </tr>\n",
       "    <tr>\n",
       "      <th>4</th>\n",
       "      <td>25597</td>\n",
       "      <td>single</td>\n",
       "      <td>male</td>\n",
       "      <td>30000.0</td>\n",
       "      <td>0.0</td>\n",
       "      <td>bachelors</td>\n",
       "      <td>manual</td>\n",
       "      <td>no</td>\n",
       "      <td>0.0</td>\n",
       "      <td>0.5</td>\n",
       "      <td>europe</td>\n",
       "      <td>36.0</td>\n",
       "      <td>yes</td>\n",
       "    </tr>\n",
       "  </tbody>\n",
       "</table>\n",
       "</div>"
      ],
      "text/plain": [
       "      ID Marital Status  Gender   Income  Children  Education    Occupation  \\\n",
       "0  12496        married  female  40000.0       1.0  bachelors        manual   \n",
       "1  24107        married    male  30000.0       3.0  bachelors        manual   \n",
       "2  14177        married    male  80000.0       5.0  bachelors  professional   \n",
       "3  24381         single    male  70000.0       0.0  bachelors  professional   \n",
       "4  25597         single    male  30000.0       0.0  bachelors        manual   \n",
       "\n",
       "  Home Owner  Cars  Commute Distance   Region   Age Purchased Bike  \n",
       "0        yes   0.0               0.5   europe  42.0             no  \n",
       "1        yes   1.0               0.5   europe  43.0             no  \n",
       "2         no   2.0               3.5   europe  60.0             no  \n",
       "3        yes   1.0               7.5  pacific  41.0            yes  \n",
       "4         no   0.0               0.5   europe  36.0            yes  "
      ]
     },
     "execution_count": 13,
     "metadata": {},
     "output_type": "execute_result"
    }
   ],
   "source": [
    "data.head()"
   ]
  },
  {
   "cell_type": "code",
   "execution_count": 14,
   "metadata": {},
   "outputs": [],
   "source": [
    "numeric_data=data.select_dtypes(exclude=['object']).columns\n",
    "categorical_values=data.select_dtypes(include=['object']).columns"
   ]
  },
  {
   "cell_type": "code",
   "execution_count": 15,
   "metadata": {},
   "outputs": [],
   "source": [
    "encoder=LabelEncoder()\n",
    "for col in data.select_dtypes(include=['object']).columns:\n",
    "    data[col]=encoder.fit_transform(data[col])"
   ]
  },
  {
   "cell_type": "code",
   "execution_count": 16,
   "metadata": {},
   "outputs": [
    {
     "data": {
      "application/vnd.microsoft.datawrangler.viewer.v0+json": {
       "columns": [
        {
         "name": "index",
         "rawType": "int64",
         "type": "integer"
        },
        {
         "name": "ID",
         "rawType": "int64",
         "type": "integer"
        },
        {
         "name": "Marital Status",
         "rawType": "int64",
         "type": "integer"
        },
        {
         "name": "Gender",
         "rawType": "int64",
         "type": "integer"
        },
        {
         "name": "Income",
         "rawType": "float64",
         "type": "float"
        },
        {
         "name": "Children",
         "rawType": "float64",
         "type": "float"
        },
        {
         "name": "Education",
         "rawType": "int64",
         "type": "integer"
        },
        {
         "name": "Occupation",
         "rawType": "int64",
         "type": "integer"
        },
        {
         "name": "Home Owner",
         "rawType": "int64",
         "type": "integer"
        },
        {
         "name": "Cars",
         "rawType": "float64",
         "type": "float"
        },
        {
         "name": "Commute Distance",
         "rawType": "float64",
         "type": "float"
        },
        {
         "name": "Region",
         "rawType": "int64",
         "type": "integer"
        },
        {
         "name": "Age",
         "rawType": "float64",
         "type": "float"
        },
        {
         "name": "Purchased Bike",
         "rawType": "int64",
         "type": "integer"
        }
       ],
       "conversionMethod": "pd.DataFrame",
       "ref": "e94c2082-f2c4-4aca-a881-88248ba2d773",
       "rows": [
        [
         "0",
         "12496",
         "0",
         "0",
         "40000.0",
         "1.0",
         "0",
         "0",
         "1",
         "0.0",
         "0.5",
         "0",
         "42.0",
         "0"
        ],
        [
         "1",
         "24107",
         "0",
         "1",
         "30000.0",
         "3.0",
         "0",
         "0",
         "1",
         "1.0",
         "0.5",
         "0",
         "43.0",
         "0"
        ],
        [
         "2",
         "14177",
         "0",
         "1",
         "80000.0",
         "5.0",
         "0",
         "1",
         "0",
         "2.0",
         "3.5",
         "0",
         "60.0",
         "0"
        ],
        [
         "3",
         "24381",
         "1",
         "1",
         "70000.0",
         "0.0",
         "0",
         "1",
         "1",
         "1.0",
         "7.5",
         "2",
         "41.0",
         "1"
        ],
        [
         "4",
         "25597",
         "1",
         "1",
         "30000.0",
         "0.0",
         "0",
         "0",
         "0",
         "0.0",
         "0.5",
         "0",
         "36.0",
         "1"
        ]
       ],
       "shape": {
        "columns": 13,
        "rows": 5
       }
      },
      "text/html": [
       "<div>\n",
       "<style scoped>\n",
       "    .dataframe tbody tr th:only-of-type {\n",
       "        vertical-align: middle;\n",
       "    }\n",
       "\n",
       "    .dataframe tbody tr th {\n",
       "        vertical-align: top;\n",
       "    }\n",
       "\n",
       "    .dataframe thead th {\n",
       "        text-align: right;\n",
       "    }\n",
       "</style>\n",
       "<table border=\"1\" class=\"dataframe\">\n",
       "  <thead>\n",
       "    <tr style=\"text-align: right;\">\n",
       "      <th></th>\n",
       "      <th>ID</th>\n",
       "      <th>Marital Status</th>\n",
       "      <th>Gender</th>\n",
       "      <th>Income</th>\n",
       "      <th>Children</th>\n",
       "      <th>Education</th>\n",
       "      <th>Occupation</th>\n",
       "      <th>Home Owner</th>\n",
       "      <th>Cars</th>\n",
       "      <th>Commute Distance</th>\n",
       "      <th>Region</th>\n",
       "      <th>Age</th>\n",
       "      <th>Purchased Bike</th>\n",
       "    </tr>\n",
       "  </thead>\n",
       "  <tbody>\n",
       "    <tr>\n",
       "      <th>0</th>\n",
       "      <td>12496</td>\n",
       "      <td>0</td>\n",
       "      <td>0</td>\n",
       "      <td>40000.0</td>\n",
       "      <td>1.0</td>\n",
       "      <td>0</td>\n",
       "      <td>0</td>\n",
       "      <td>1</td>\n",
       "      <td>0.0</td>\n",
       "      <td>0.5</td>\n",
       "      <td>0</td>\n",
       "      <td>42.0</td>\n",
       "      <td>0</td>\n",
       "    </tr>\n",
       "    <tr>\n",
       "      <th>1</th>\n",
       "      <td>24107</td>\n",
       "      <td>0</td>\n",
       "      <td>1</td>\n",
       "      <td>30000.0</td>\n",
       "      <td>3.0</td>\n",
       "      <td>0</td>\n",
       "      <td>0</td>\n",
       "      <td>1</td>\n",
       "      <td>1.0</td>\n",
       "      <td>0.5</td>\n",
       "      <td>0</td>\n",
       "      <td>43.0</td>\n",
       "      <td>0</td>\n",
       "    </tr>\n",
       "    <tr>\n",
       "      <th>2</th>\n",
       "      <td>14177</td>\n",
       "      <td>0</td>\n",
       "      <td>1</td>\n",
       "      <td>80000.0</td>\n",
       "      <td>5.0</td>\n",
       "      <td>0</td>\n",
       "      <td>1</td>\n",
       "      <td>0</td>\n",
       "      <td>2.0</td>\n",
       "      <td>3.5</td>\n",
       "      <td>0</td>\n",
       "      <td>60.0</td>\n",
       "      <td>0</td>\n",
       "    </tr>\n",
       "    <tr>\n",
       "      <th>3</th>\n",
       "      <td>24381</td>\n",
       "      <td>1</td>\n",
       "      <td>1</td>\n",
       "      <td>70000.0</td>\n",
       "      <td>0.0</td>\n",
       "      <td>0</td>\n",
       "      <td>1</td>\n",
       "      <td>1</td>\n",
       "      <td>1.0</td>\n",
       "      <td>7.5</td>\n",
       "      <td>2</td>\n",
       "      <td>41.0</td>\n",
       "      <td>1</td>\n",
       "    </tr>\n",
       "    <tr>\n",
       "      <th>4</th>\n",
       "      <td>25597</td>\n",
       "      <td>1</td>\n",
       "      <td>1</td>\n",
       "      <td>30000.0</td>\n",
       "      <td>0.0</td>\n",
       "      <td>0</td>\n",
       "      <td>0</td>\n",
       "      <td>0</td>\n",
       "      <td>0.0</td>\n",
       "      <td>0.5</td>\n",
       "      <td>0</td>\n",
       "      <td>36.0</td>\n",
       "      <td>1</td>\n",
       "    </tr>\n",
       "  </tbody>\n",
       "</table>\n",
       "</div>"
      ],
      "text/plain": [
       "      ID  Marital Status  Gender   Income  Children  Education  Occupation  \\\n",
       "0  12496               0       0  40000.0       1.0          0           0   \n",
       "1  24107               0       1  30000.0       3.0          0           0   \n",
       "2  14177               0       1  80000.0       5.0          0           1   \n",
       "3  24381               1       1  70000.0       0.0          0           1   \n",
       "4  25597               1       1  30000.0       0.0          0           0   \n",
       "\n",
       "   Home Owner  Cars  Commute Distance  Region   Age  Purchased Bike  \n",
       "0           1   0.0               0.5       0  42.0               0  \n",
       "1           1   1.0               0.5       0  43.0               0  \n",
       "2           0   2.0               3.5       0  60.0               0  \n",
       "3           1   1.0               7.5       2  41.0               1  \n",
       "4           0   0.0               0.5       0  36.0               1  "
      ]
     },
     "execution_count": 16,
     "metadata": {},
     "output_type": "execute_result"
    }
   ],
   "source": [
    "data.head()"
   ]
  }
 ],
 "metadata": {
  "kernelspec": {
   "display_name": "Python 3",
   "language": "python",
   "name": "python3"
  },
  "language_info": {
   "codemirror_mode": {
    "name": "ipython",
    "version": 3
   },
   "file_extension": ".py",
   "mimetype": "text/x-python",
   "name": "python",
   "nbconvert_exporter": "python",
   "pygments_lexer": "ipython3",
   "version": "3.11.9"
  }
 },
 "nbformat": 4,
 "nbformat_minor": 2
}
